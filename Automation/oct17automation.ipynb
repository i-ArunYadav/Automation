{
 "cells": [
  {
   "cell_type": "code",
   "execution_count": 1,
   "id": "87fc5310",
   "metadata": {},
   "outputs": [],
   "source": [
    "from selenium import webdriver\n",
    "from selenium.webdriver.common.action_chains import ActionChains\n",
    "from webdriver_manager.chrome import ChromeDriverManager\n",
    "from selenium.webdriver.common.by import By\n",
    "from selenium.webdriver.common.keys import Keys\n",
    "from selenium.webdriver.support.ui import Select\n",
    "import time"
   ]
  },
  {
   "cell_type": "code",
   "execution_count": 2,
   "id": "076ad54d",
   "metadata": {},
   "outputs": [],
   "source": [
    "url = 'https://www.linkedin.com/checkpoint/lg/sign-in-another-account'"
   ]
  },
  {
   "cell_type": "code",
   "execution_count": 3,
   "id": "6a46f9a4",
   "metadata": {},
   "outputs": [
    {
     "name": "stderr",
     "output_type": "stream",
     "text": [
      "C:\\Users\\Arun\\AppData\\Local\\Temp\\ipykernel_4776\\1503906442.py:1: DeprecationWarning: executable_path has been deprecated, please pass in a Service object\n",
      "  driver = webdriver.Chrome(ChromeDriverManager().install())\n"
     ]
    }
   ],
   "source": [
    "driver = webdriver.Chrome(ChromeDriverManager().install())"
   ]
  },
  {
   "cell_type": "code",
   "execution_count": 4,
   "id": "fbe2ba74",
   "metadata": {},
   "outputs": [],
   "source": [
    "action = ActionChains(driver)\n",
    "# driver.maximize_window()\n",
    "driver.get(url)"
   ]
  },
  {
   "cell_type": "code",
   "execution_count": 5,
   "id": "8621718b",
   "metadata": {},
   "outputs": [],
   "source": [
    "time.sleep(4)\n",
    "username = driver.find_element(By.XPATH,\"//input[@id = 'username']\")\n",
    "password = driver.find_element(By.XPATH,\"//input[@id ='password']\")\n",
    "username.send_keys('parteekkamboj9@gmail.com')   ##put the username\n",
    "password.send_keys('parteek@123')    ##put the password\n",
    "time.sleep(3)\n",
    "submit = driver.find_element(By.XPATH,\"//div[@class = 'login__form_action_container ']\")\n",
    "submit.click()\n",
    "time.sleep(4)"
   ]
  },
  {
   "cell_type": "code",
   "execution_count": 6,
   "id": "2773ca5d",
   "metadata": {},
   "outputs": [
    {
     "ename": "ElementNotInteractableException",
     "evalue": "Message: element not interactable\n  (Session info: chrome=107.0.5304.121)\nStacktrace:\nBacktrace:\n\tOrdinal0 [0x0153ACD3+2075859]\n\tOrdinal0 [0x014CEE61+1633889]\n\tOrdinal0 [0x013CB680+571008]\n\tOrdinal0 [0x013FBBD6+768982]\n\tOrdinal0 [0x013F1C76+728182]\n\tOrdinal0 [0x0141731C+881436]\n\tOrdinal0 [0x013F15BF+726463]\n\tOrdinal0 [0x01417534+881972]\n\tOrdinal0 [0x0142B56A+963946]\n\tOrdinal0 [0x01417136+880950]\n\tOrdinal0 [0x013EFEFD+720637]\n\tOrdinal0 [0x013F0F3F+724799]\n\tGetHandleVerifier [0x017EEED2+2769538]\n\tGetHandleVerifier [0x017E0D95+2711877]\n\tGetHandleVerifier [0x015CA03A+521194]\n\tGetHandleVerifier [0x015C8DA0+516432]\n\tOrdinal0 [0x014D682C+1665068]\n\tOrdinal0 [0x014DB128+1683752]\n\tOrdinal0 [0x014DB215+1683989]\n\tOrdinal0 [0x014E6484+1729668]\n\tBaseThreadInitThunk [0x759E347D+18]\n\tRtlInitializeExceptionChain [0x76FB9852+99]\n\tRtlInitializeExceptionChain [0x76FB9825+54]\n",
     "output_type": "error",
     "traceback": [
      "\u001b[1;31m---------------------------------------------------------------------------\u001b[0m",
      "\u001b[1;31mElementNotInteractableException\u001b[0m           Traceback (most recent call last)",
      "Input \u001b[1;32mIn [6]\u001b[0m, in \u001b[0;36m<cell line: 2>\u001b[1;34m()\u001b[0m\n\u001b[0;32m      1\u001b[0m search \u001b[38;5;241m=\u001b[39m driver\u001b[38;5;241m.\u001b[39mfind_element(By\u001b[38;5;241m.\u001b[39mXPATH,\u001b[38;5;124m\"\u001b[39m\u001b[38;5;124m//button[@class = \u001b[39m\u001b[38;5;124m'\u001b[39m\u001b[38;5;124msearch-global-typeahead__collapsed-search-button\u001b[39m\u001b[38;5;124m'\u001b[39m\u001b[38;5;124m]\u001b[39m\u001b[38;5;124m\"\u001b[39m)\n\u001b[1;32m----> 2\u001b[0m \u001b[43msearch\u001b[49m\u001b[38;5;241;43m.\u001b[39;49m\u001b[43mclick\u001b[49m\u001b[43m(\u001b[49m\u001b[43m)\u001b[49m\n\u001b[0;32m      3\u001b[0m time\u001b[38;5;241m.\u001b[39msleep(\u001b[38;5;241m4\u001b[39m)\n\u001b[0;32m      4\u001b[0m search_type \u001b[38;5;241m=\u001b[39m driver\u001b[38;5;241m.\u001b[39mfind_element(By\u001b[38;5;241m.\u001b[39mXPATH,\u001b[38;5;124m\"\u001b[39m\u001b[38;5;124m//div[@id =\u001b[39m\u001b[38;5;124m'\u001b[39m\u001b[38;5;124mglobal-nav-typeahead\u001b[39m\u001b[38;5;124m'\u001b[39m\u001b[38;5;124m]/input\u001b[39m\u001b[38;5;124m\"\u001b[39m)\n",
      "File \u001b[1;32mc:\\users\\arun\\appdata\\local\\programs\\python\\python38\\lib\\site-packages\\selenium\\webdriver\\remote\\webelement.py:81\u001b[0m, in \u001b[0;36mWebElement.click\u001b[1;34m(self)\u001b[0m\n\u001b[0;32m     79\u001b[0m \u001b[38;5;28;01mdef\u001b[39;00m \u001b[38;5;21mclick\u001b[39m(\u001b[38;5;28mself\u001b[39m) \u001b[38;5;241m-\u001b[39m\u001b[38;5;241m>\u001b[39m \u001b[38;5;28;01mNone\u001b[39;00m:\n\u001b[0;32m     80\u001b[0m     \u001b[38;5;124;03m\"\"\"Clicks the element.\"\"\"\u001b[39;00m\n\u001b[1;32m---> 81\u001b[0m     \u001b[38;5;28;43mself\u001b[39;49m\u001b[38;5;241;43m.\u001b[39;49m\u001b[43m_execute\u001b[49m\u001b[43m(\u001b[49m\u001b[43mCommand\u001b[49m\u001b[38;5;241;43m.\u001b[39;49m\u001b[43mCLICK_ELEMENT\u001b[49m\u001b[43m)\u001b[49m\n",
      "File \u001b[1;32mc:\\users\\arun\\appdata\\local\\programs\\python\\python38\\lib\\site-packages\\selenium\\webdriver\\remote\\webelement.py:740\u001b[0m, in \u001b[0;36mWebElement._execute\u001b[1;34m(self, command, params)\u001b[0m\n\u001b[0;32m    738\u001b[0m     params \u001b[38;5;241m=\u001b[39m {}\n\u001b[0;32m    739\u001b[0m params[\u001b[38;5;124m'\u001b[39m\u001b[38;5;124mid\u001b[39m\u001b[38;5;124m'\u001b[39m] \u001b[38;5;241m=\u001b[39m \u001b[38;5;28mself\u001b[39m\u001b[38;5;241m.\u001b[39m_id\n\u001b[1;32m--> 740\u001b[0m \u001b[38;5;28;01mreturn\u001b[39;00m \u001b[38;5;28;43mself\u001b[39;49m\u001b[38;5;241;43m.\u001b[39;49m\u001b[43m_parent\u001b[49m\u001b[38;5;241;43m.\u001b[39;49m\u001b[43mexecute\u001b[49m\u001b[43m(\u001b[49m\u001b[43mcommand\u001b[49m\u001b[43m,\u001b[49m\u001b[43m \u001b[49m\u001b[43mparams\u001b[49m\u001b[43m)\u001b[49m\n",
      "File \u001b[1;32mc:\\users\\arun\\appdata\\local\\programs\\python\\python38\\lib\\site-packages\\selenium\\webdriver\\remote\\webdriver.py:430\u001b[0m, in \u001b[0;36mWebDriver.execute\u001b[1;34m(self, driver_command, params)\u001b[0m\n\u001b[0;32m    428\u001b[0m response \u001b[38;5;241m=\u001b[39m \u001b[38;5;28mself\u001b[39m\u001b[38;5;241m.\u001b[39mcommand_executor\u001b[38;5;241m.\u001b[39mexecute(driver_command, params)\n\u001b[0;32m    429\u001b[0m \u001b[38;5;28;01mif\u001b[39;00m response:\n\u001b[1;32m--> 430\u001b[0m     \u001b[38;5;28;43mself\u001b[39;49m\u001b[38;5;241;43m.\u001b[39;49m\u001b[43merror_handler\u001b[49m\u001b[38;5;241;43m.\u001b[39;49m\u001b[43mcheck_response\u001b[49m\u001b[43m(\u001b[49m\u001b[43mresponse\u001b[49m\u001b[43m)\u001b[49m\n\u001b[0;32m    431\u001b[0m     response[\u001b[38;5;124m'\u001b[39m\u001b[38;5;124mvalue\u001b[39m\u001b[38;5;124m'\u001b[39m] \u001b[38;5;241m=\u001b[39m \u001b[38;5;28mself\u001b[39m\u001b[38;5;241m.\u001b[39m_unwrap_value(\n\u001b[0;32m    432\u001b[0m         response\u001b[38;5;241m.\u001b[39mget(\u001b[38;5;124m'\u001b[39m\u001b[38;5;124mvalue\u001b[39m\u001b[38;5;124m'\u001b[39m, \u001b[38;5;28;01mNone\u001b[39;00m))\n\u001b[0;32m    433\u001b[0m     \u001b[38;5;28;01mreturn\u001b[39;00m response\n",
      "File \u001b[1;32mc:\\users\\arun\\appdata\\local\\programs\\python\\python38\\lib\\site-packages\\selenium\\webdriver\\remote\\errorhandler.py:247\u001b[0m, in \u001b[0;36mErrorHandler.check_response\u001b[1;34m(self, response)\u001b[0m\n\u001b[0;32m    245\u001b[0m         alert_text \u001b[38;5;241m=\u001b[39m value[\u001b[38;5;124m'\u001b[39m\u001b[38;5;124malert\u001b[39m\u001b[38;5;124m'\u001b[39m]\u001b[38;5;241m.\u001b[39mget(\u001b[38;5;124m'\u001b[39m\u001b[38;5;124mtext\u001b[39m\u001b[38;5;124m'\u001b[39m)\n\u001b[0;32m    246\u001b[0m     \u001b[38;5;28;01mraise\u001b[39;00m exception_class(message, screen, stacktrace, alert_text)  \u001b[38;5;66;03m# type: ignore[call-arg]  # mypy is not smart enough here\u001b[39;00m\n\u001b[1;32m--> 247\u001b[0m \u001b[38;5;28;01mraise\u001b[39;00m exception_class(message, screen, stacktrace)\n",
      "\u001b[1;31mElementNotInteractableException\u001b[0m: Message: element not interactable\n  (Session info: chrome=107.0.5304.121)\nStacktrace:\nBacktrace:\n\tOrdinal0 [0x0153ACD3+2075859]\n\tOrdinal0 [0x014CEE61+1633889]\n\tOrdinal0 [0x013CB680+571008]\n\tOrdinal0 [0x013FBBD6+768982]\n\tOrdinal0 [0x013F1C76+728182]\n\tOrdinal0 [0x0141731C+881436]\n\tOrdinal0 [0x013F15BF+726463]\n\tOrdinal0 [0x01417534+881972]\n\tOrdinal0 [0x0142B56A+963946]\n\tOrdinal0 [0x01417136+880950]\n\tOrdinal0 [0x013EFEFD+720637]\n\tOrdinal0 [0x013F0F3F+724799]\n\tGetHandleVerifier [0x017EEED2+2769538]\n\tGetHandleVerifier [0x017E0D95+2711877]\n\tGetHandleVerifier [0x015CA03A+521194]\n\tGetHandleVerifier [0x015C8DA0+516432]\n\tOrdinal0 [0x014D682C+1665068]\n\tOrdinal0 [0x014DB128+1683752]\n\tOrdinal0 [0x014DB215+1683989]\n\tOrdinal0 [0x014E6484+1729668]\n\tBaseThreadInitThunk [0x759E347D+18]\n\tRtlInitializeExceptionChain [0x76FB9852+99]\n\tRtlInitializeExceptionChain [0x76FB9825+54]\n"
     ]
    }
   ],
   "source": [
    "search = driver.find_element(By.XPATH,\"//button[@class = 'search-global-typeahead__collapsed-search-button']\")\n",
    "search.click()\n",
    "time.sleep(4)\n",
    "search_type = driver.find_element(By.XPATH,\"//div[@id ='global-nav-typeahead']/input\")\n",
    "search_type.send_keys('graphic designer') ##put the job specification\n",
    "search_type.send_keys(Keys.ENTER)\n",
    "time.sleep(4)\n",
    "\n",
    "nav_bar = driver.find_elements(By.XPATH,\"//div[@id ='search-reusables__filters-bar']//button\")\n",
    "\n",
    "for i in nav_bar:\n",
    "    if i.text == 'People':\n",
    "        i.click()\n",
    "        time.sleep(2)\n",
    "        driver.find_element(By.XPATH,\"//div[@id='search-reusables__filters-bar']/ul/li[3]\").click()\n",
    "        time.sleep(3)\n",
    "        first_option = driver.find_element(By.XPATH,\"//label[@for='network-S']\").click()\n",
    "        time.sleep(2)\n",
    "        second_option = driver.find_element(By.XPATH,\"//label[@for ='network-F']\").click()\n",
    "        time.sleep(2)\n",
    "        driver.find_element(By.XPATH,\"//div[@id='search-reusables__filters-bar']/ul/li[3]//fieldset/div[2]/button[2]\").click()\n",
    "        time.sleep(3)\n",
    "\n",
    "        location = driver.find_element(By.XPATH,\"//div[@id='search-reusables__filters-bar']/ul/li[4]\").click()\n",
    "        time.sleep(2)\n",
    "        location_click = driver.find_element(By.XPATH,\"//input[@placeholder='Add a location']\")\n",
    "        location_click.click()\n",
    "        time.sleep(2)\n",
    "        location_click.send_keys('Delhi') ##put the location\n",
    "        time.sleep(3)\n",
    "        location_click.send_keys(Keys.DOWN)\n",
    "        time.sleep(3)\n",
    "        location_click.send_keys(Keys.ENTER)\n",
    "#         select = driver.find_element(By.XPATH,\"//div[@id='search-reusables__filters-bar']/ul/li[4]//fieldset//ul/li[2]/label\")\n",
    "#         select.click()\n",
    "        time.sleep(2)\n",
    "        submit = driver.find_element(By.XPATH,\"//div[@id='search-reusables__filters-bar']/ul/li[4]//fieldset//div[2]/button[2]\")\n",
    "        submit.click()\n",
    "        time.sleep(3)\n",
    "\n",
    "        current_company = driver.find_element(By.XPATH,\"//div[@id='search-reusables__filters-bar']/ul/li[5]\").click()\n",
    "        time.sleep(3)\n",
    "        company_name = driver.find_element(By.XPATH,\"//input[@placeholder = 'Add a company']\")\n",
    "        company_name.click()\n",
    "        time.sleep(2)\n",
    "        company_name.send_keys('inshorts') ##put company name\n",
    "        time.sleep(3)\n",
    "        company_name.send_keys(Keys.DOWN)\n",
    "        time.sleep(2)\n",
    "        company_name.send_keys(Keys.ENTER)\n",
    "        time.sleep(1)\n",
    "        count=1\n",
    "        submt = driver.find_element(By.XPATH,\"//div[@id='search-reusables__filters-bar']/ul/li[5]//button[2]\").click()\n",
    "        time.sleep(2)\n",
    "        for i in [1,2]:\n",
    "            message_connect = driver.find_elements(By.XPATH,\"//ul[@class ='reusable-search__entity-result-list list-style-none']/li//button\")\n",
    "            for i in message_connect:\n",
    "                print(i.text,'SSSSSSSSSSSSSSSSSSSSSSsssss')\n",
    "                if i.text == 'Message':\n",
    "                    i.click()\n",
    "                    time.sleep(4)\n",
    "                    message_content = driver.find_element(By.XPATH,\"//div[@class='flex-grow-1']/div[1]\")\n",
    "                    print(\"########################################\")\n",
    "                    message_content.send_keys('hi, this not me, I am justing learningAutomation, sorry to disturbing you')\n",
    "                    time.sleep(4)\n",
    "                    send_message = driver.find_element(By.XPATH,\"//div[@class ='msg-form__right-actions display-flex align-items-center']/div\")\n",
    "                    send_message.click()\n",
    "                    time.sleep(4)\n",
    "                    print('++++++++++++++++++++++++++++++++++++++++++++++++++++++')\n",
    "                    message_cancel_button = driver.find_element(By.XPATH,\"//button[@class='msg-overlay-bubble-header__control artdeco-button artdeco-button--circle artdeco-button--muted artdeco-button--1 artdeco-button--tertiary ember-view']\")\n",
    "\n",
    "                    message_cancel_button.click()\n",
    "                    time.sleep(2)\n",
    "                if i.text == 'Connect':\n",
    "                    i.click()\n",
    "                    time.sleep(3)\n",
    "                    add_note = driver.find_element(By.XPATH,\"//button[@aria-label='Add a note']\")\n",
    "                    add_note.click()\n",
    "                    time.sleep(2)\n",
    "                    print('$$$$$$$$$$$$$$$$$$$$$$$$$$$$$$$$$$$$$$$$$$$$$$$$$$$$$$$$')\n",
    "                    write_note = driver.find_element(By.XPATH,\"//textarea[@id='custom-message']\")\n",
    "                    write_note.send_keys('hi,this is not me, I am just learning automation, sorry to disturbing you.')\n",
    "                    print('^^^^^^^^^^^^^^^^^^^^^^^^^^^^^^^^^^^^^^^^^^^^^^^^^^^^^^^^^^^^^')\n",
    "                    send_note = driver.find_element(By.XPATH,\"//button[@aria-label='Send now']\")\n",
    "                    send_note.click()\n",
    "                    time.sleep(4)\n",
    "            time.sleep(3)\n",
    "#             driver.find_element(By.XPATH,\"//button[@aria-label='Next']\").click()\n",
    "#             time.sleep(3)\n"
   ]
  },
  {
   "cell_type": "code",
   "execution_count": null,
   "id": "2a45184d",
   "metadata": {},
   "outputs": [],
   "source": [
    "# time.sleep(5)\n",
    "# while True:\n",
    "#     try:\n",
    "#         message_connect = driver.find_elements(By.XPATH,\"//ul[@class ='reusable-search__entity-result-list list-style-none']/li//button\")\n",
    "#         for i in message_connect[0:2]:\n",
    "#             print(i.text,'SSSSSSSSSSSSSSSSSSSSSSsssss')\n",
    "#             if i.text == 'Message':\n",
    "#                 i.click()\n",
    "#                 time.sleep(4)\n",
    "#                 message_content = driver.find_element(By.XPATH,\"//div[@class='flex-grow-1']/div[1]\")\n",
    "#                 print(\"########################################\")\n",
    "#                 message_content.send_keys('hi, this not me, I am justing learningAutomation, sorry to disturbing you')\n",
    "#                 time.sleep(4)\n",
    "#                 send_message = driver.find_element(By.XPATH,\"//div[@class ='msg-form__right-actions display-flex align-items-center']/div\")\n",
    "#                 send_message.click()\n",
    "#                 time.sleep(4)\n",
    "#                 print('++++++++++++++++++++++++++++++++++++++++++++++++++++++')\n",
    "#                 message_cancel_button = driver.find_element(By.XPATH,\"//button[@class='msg-overlay-bubble-header__control artdeco-button artdeco-button--circle artdeco-button--muted artdeco-button--1 artdeco-button--tertiary ember-view']\")\n",
    "\n",
    "#                 message_cancel_button.click()\n",
    "#                 time.sleep(2)\n",
    "#             if i.text == 'Connect':\n",
    "#                 i.click()\n",
    "#                 time.sleep(3)\n",
    "#                 add_note = driver.find_element(By.XPATH,\"//button[@aria-label='Add a note']\")\n",
    "#                 add_note.click()\n",
    "#                 time.sleep(2)\n",
    "#                 print('$$$$$$$$$$$$$$$$$$$$$$$$$$$$$$$$$$$$$$$$$$$$$$$$$$$$$$$$')\n",
    "#                 write_note = driver.find_element(By.XPATH,\"//textarea[@id='custom-message']\")\n",
    "#                 write_note.send_keys('hi,this is not me, I am just learning automation, sorry to disturbing you.')\n",
    "#                 print('^^^^^^^^^^^^^^^^^^^^^^^^^^^^^^^^^^^^^^^^^^^^^^^^^^^^^^^^^^^^^')\n",
    "#                 #//div[@id='ember5939']/button[2]\n",
    "#                 send_note = driver.find_element(By.XPATH,\"//button[@aria-label='Send now']\")\n",
    "#                 send_note.click()\n",
    "#                 time.sleep(4)\n",
    "#         next_button= driver.find_element(By.XPATH,\"//button[@aria-label='Next']\").click()\n",
    "#         time.sleep(5)\n",
    "#     except Exception as e:\n",
    "#         print(e)\n",
    "\n",
    "    \n"
   ]
  },
  {
   "cell_type": "code",
   "execution_count": null,
   "id": "d0e8e6ab",
   "metadata": {},
   "outputs": [],
   "source": [
    "li = [1,2,34,4]\n",
    "for i in  [1,3,4,5,6]:\n",
    "    li.append(i)\n",
    "    \n",
    "for i in li:\n",
    "    print(i)"
   ]
  }
 ],
 "metadata": {
  "kernelspec": {
   "display_name": "Python 3 (ipykernel)",
   "language": "python",
   "name": "python3"
  },
  "language_info": {
   "codemirror_mode": {
    "name": "ipython",
    "version": 3
   },
   "file_extension": ".py",
   "mimetype": "text/x-python",
   "name": "python",
   "nbconvert_exporter": "python",
   "pygments_lexer": "ipython3",
   "version": "3.8.8"
  }
 },
 "nbformat": 4,
 "nbformat_minor": 5
}
