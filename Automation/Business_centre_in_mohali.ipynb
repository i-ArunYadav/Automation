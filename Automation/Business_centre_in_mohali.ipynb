{
 "cells": [
  {
   "cell_type": "code",
   "execution_count": 1,
   "id": "c8c329bf",
   "metadata": {},
   "outputs": [],
   "source": [
    "from selenium import webdriver\n",
    "from selenium.webdriver.common.action_chains import ActionChains\n",
    "from webdriver_manager.chrome import ChromeDriverManager\n",
    "from selenium.webdriver.common.by import By\n",
    "from selenium.webdriver.common.keys import Keys\n",
    "from selenium.webdriver.support.ui import Select\n",
    "# import time"
   ]
  },
  {
   "cell_type": "code",
   "execution_count": 2,
   "id": "826d91c5",
   "metadata": {},
   "outputs": [],
   "source": [
    "url2 = 'https://www.google.com/maps/search/mohali+business+centre/@30.7075714,76.6874062,16z'"
   ]
  },
  {
   "cell_type": "code",
   "execution_count": 3,
   "id": "33dced31",
   "metadata": {},
   "outputs": [],
   "source": [
    "driver = webdriver.Chrome(ChromeDriverManager().install())\n",
    "action = ActionChains(driver)\n",
    "driver.maximize_window()\n",
    "driver.get(url2)\n",
    "time.sleep(4)"
   ]
  },
  {
   "cell_type": "code",
   "execution_count": 4,
   "id": "dfd21e1f",
   "metadata": {},
   "outputs": [],
   "source": [
    "gmap= driver.find_elements(By.XPATH,\"//div[@aria-label='Results for mohali business centre']//div[@role = 'article']/a\")"
   ]
  },
  {
   "cell_type": "code",
   "execution_count": 5,
   "id": "e753aade",
   "metadata": {},
   "outputs": [],
   "source": [
    "# name = []\n",
    "# href = []\n",
    "# gmap= driver.find_elements(By.XPATH,\"//div[@aria-label='Results for mohali business centre']//div[@role = 'article']/a\")\n",
    "# while True:\n",
    "#     print('start........................................')\n",
    "#     #gmap= driver.find_elements(By.XPATH,\"//div[@aria-label='Results for mohali business centre']//div[@role = 'article']/a\")\n",
    "#     try:\n",
    "#         for i in gmap:\n",
    "#             a = i.get_attribute('aria-label')\n",
    "#             #h = i.get_attribute('href')\n",
    "#             name.append(a)\n",
    "#             #href.append(h)  \n",
    "#             #print(href)\n",
    "#             a =\"You've reached the end of the list.\"\n",
    "#             if driver.find_elements(By.XPATH,\"//div[@class ='m6QErb tLjsW eKbjU']//span/span[1]\")[0].text == a:\n",
    "#                 break\n",
    "#         print(name)\n",
    "#         driver.execute_script(\"window.scrollBy(0,600)\")\n",
    "#         time.sleep(3)\n",
    "#     except:\n",
    "#          pass"
   ]
  },
  {
   "cell_type": "code",
   "execution_count": 6,
   "id": "856ee9b9",
   "metadata": {},
   "outputs": [],
   "source": [
    "count=0\n",
    "while True:\n",
    "    print('sssssssssssds',count)\n",
    "    page_down =driver.find_element(By.XPATH,\"//div[@aria-label='Results for mohali business centre']\")\n",
    "#     gmap= driver.find_elements(By.XPATH,\"//div[@aria-label='Results for mohali business centre']//div[@role = 'article']/a\")\n",
    "    try:\n",
    "        a=driver.find_elements(By.XPATH,\"//div[@class ='m6QErb tLjsW eKbjU']//span/span\")\n",
    "        print(len(a))\n",
    "        if len(a)>0:\n",
    "            break\n",
    "        count+=1\n",
    "        page_down.send_keys(Keys.PAGE_DOWN)\n",
    "           \n",
    "    except:\n",
    "        print('Break')\n",
    "        break\n",
    "\n"
   ]
  },
  {
   "cell_type": "code",
   "execution_count": 7,
   "id": "759d2f51",
   "metadata": {},
   "outputs": [],
   "source": [
    "ln=[]\n",
    "hrf =[]\n",
    "gmap= driver.find_elements(By.XPATH,\"//div[@aria-label='Results for mohali business centre']//div[@role = 'article']/a\")\n",
    "for i in gmap:\n",
    "        a =i.get_attribute('aria-label')\n",
    "        b =i.get_attribute('href')\n",
    "        ln.append(a)\n",
    "        hrf.append(b)\n",
    "        time.sleep(1)"
   ]
  },
  {
   "cell_type": "code",
   "execution_count": 8,
   "id": "3c1e1b54",
   "metadata": {},
   "outputs": [],
   "source": [
    "print(hrf)"
   ]
  },
  {
   "cell_type": "code",
   "execution_count": 9,
   "id": "ff1faa1c",
   "metadata": {},
   "outputs": [],
   "source": [
    "print(len(ln))"
   ]
  },
  {
   "cell_type": "code",
   "execution_count": 10,
   "id": "4a5c6063",
   "metadata": {},
   "outputs": [],
   "source": [
    "name = []\n",
    "star = []\n",
    "view = []\n",
    "for i in hrf:\n",
    "    \n",
    "    heading_tag = driver.find_element(By.XPATH,'//div[@class=\"lMbq3e\"]')\n",
    "    try:\n",
    "        nam = heading.find_element(By.XPATH,\".//h1\")\n",
    "        name.append(nam.text)\n",
    "    except:\n",
    "        name.append('Nan')\n",
    "    try:\n",
    "        st = heading.find_element(\".//div[@class='F7nice mmu3tf']//span[@aria-hidden]\")\n",
    "        star.append(st.text)\n",
    "    except:\n",
    "        star.append('Nan')\n",
    "    try:\n",
    "        vw = driver.find_element(\"//div[@class='F7nice mmu3tf']/span[2]//span[@aria-label]\")\n",
    "        view.append(vw.text)\n",
    "    except:\n",
    "        view.append('Nan')\n",
    "\n",
    "        \n",
    "        \n",
    "\n",
    "        "
   ]
  }
 ],
 "metadata": {
  "kernelspec": {
   "display_name": "Python 3 (ipykernel)",
   "language": "python",
   "name": "python3"
  },
  "language_info": {
   "codemirror_mode": {
    "name": "ipython",
    "version": 3
   },
   "file_extension": ".py",
   "mimetype": "text/x-python",
   "name": "python",
   "nbconvert_exporter": "python",
   "pygments_lexer": "ipython3",
   "version": "3.8.8"
  }
 },
 "nbformat": 4,
 "nbformat_minor": 5
}
